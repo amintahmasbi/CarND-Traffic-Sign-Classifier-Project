{
 "cells": [
  {
   "cell_type": "markdown",
   "metadata": {},
   "source": [
    "# Self-Driving Car Engineer Nanodegree\n",
    "\n",
    "## Deep Learning\n",
    "\n",
    "## Project: Build a Traffic Sign Recognition Classifier\n",
    "\n",
    "In this notebook, a template is provided for you to implement your functionality in stages, which is required to successfully complete this project. If additional code is required that cannot be included in the notebook, be sure that the Python code is successfully imported and included in your submission if necessary. \n",
    "\n",
    "> **Note**: Once you have completed all of the code implementations, you need to finalize your work by exporting the iPython Notebook as an HTML document. Before exporting the notebook to html, all of the code cells need to have been run so that reviewers can see the final implementation and output. You can then export the notebook by using the menu above and navigating to  \\n\",\n",
    "    \"**File -> Download as -> HTML (.html)**. Include the finished document along with this notebook as your submission. \n",
    "\n",
    "In addition to implementing code, there is a writeup to complete. The writeup should be completed in a separate file, which can be either a markdown file or a pdf document. There is a [write up template](https://github.com/udacity/CarND-Traffic-Sign-Classifier-Project/blob/master/writeup_template.md) that can be used to guide the writing process. Completing the code template and writeup template will cover all of the [rubric points](https://review.udacity.com/#!/rubrics/481/view) for this project.\n",
    "\n",
    "The [rubric](https://review.udacity.com/#!/rubrics/481/view) contains \"Stand Out Suggestions\" for enhancing the project beyond the minimum requirements. The stand out suggestions are optional. If you decide to pursue the \"stand out suggestions\", you can include the code in this Ipython notebook and also discuss the results in the writeup file.\n",
    "\n",
    "\n",
    ">**Note:** Code and Markdown cells can be executed using the **Shift + Enter** keyboard shortcut. In addition, Markdown cells can be edited by typically double-clicking the cell to enter edit mode."
   ]
  },
  {
   "cell_type": "markdown",
   "metadata": {},
   "source": [
    "---\n",
    "## Step 0: Load The Data"
   ]
  },
  {
   "cell_type": "code",
   "execution_count": 1,
   "metadata": {},
   "outputs": [],
   "source": [
    "# Load pickled data\n",
    "import pickle\n",
    "from os import path\n",
    "\n",
    "# TODO: Fill this in based on where you saved the training and testing data\n",
    "\n",
    "training_file = path.relpath(\"traffic-signs-data/train.p\")\n",
    "validation_file = path.relpath(\"traffic-signs-data/valid.p\")\n",
    "testing_file = path.relpath(\"traffic-signs-data/test.p\")\n",
    "\n",
    "with open(training_file, mode='rb') as f:\n",
    "    train = pickle.load(f)\n",
    "with open(validation_file, mode='rb') as f:\n",
    "    valid = pickle.load(f)\n",
    "with open(testing_file, mode='rb') as f:\n",
    "    test = pickle.load(f)\n",
    "    \n",
    "X_train, y_train = train['features'], train['labels']\n",
    "X_validation, y_validation = valid['features'], valid['labels']\n",
    "X_test, y_test = test['features'], test['labels']"
   ]
  },
  {
   "cell_type": "markdown",
   "metadata": {},
   "source": [
    "---\n",
    "\n",
    "## Step 1: Dataset Summary & Exploration\n",
    "\n",
    "The pickled data is a dictionary with 4 key/value pairs:\n",
    "\n",
    "- `'features'` is a 4D array containing raw pixel data of the traffic sign images, (num examples, width, height, channels).\n",
    "- `'labels'` is a 1D array containing the label/class id of the traffic sign. The file `signnames.csv` contains id -> name mappings for each id.\n",
    "- `'sizes'` is a list containing tuples, (width, height) representing the original width and height the image.\n",
    "- `'coords'` is a list containing tuples, (x1, y1, x2, y2) representing coordinates of a bounding box around the sign in the image. **THESE COORDINATES ASSUME THE ORIGINAL IMAGE. THE PICKLED DATA CONTAINS RESIZED VERSIONS (32 by 32) OF THESE IMAGES**\n",
    "\n",
    "Complete the basic data summary below. Use python, numpy and/or pandas methods to calculate the data summary rather than hard coding the results. For example, the [pandas shape method](http://pandas.pydata.org/pandas-docs/stable/generated/pandas.DataFrame.shape.html) might be useful for calculating some of the summary results. "
   ]
  },
  {
   "cell_type": "markdown",
   "metadata": {},
   "source": [
    "### Provide a Basic Summary of the Data Set Using Python, Numpy and/or Pandas"
   ]
  },
  {
   "cell_type": "code",
   "execution_count": 2,
   "metadata": {},
   "outputs": [
    {
     "name": "stdout",
     "output_type": "stream",
     "text": [
      "Number of training examples = 34799\n",
      "Number of testing examples = 12630\n",
      "Image data shape = (32, 32, 3)\n",
      "Number of classes = 43\n"
     ]
    }
   ],
   "source": [
    "### Replace each question mark with the appropriate value. \n",
    "### Use python, pandas or numpy methods rather than hard coding the results\n",
    "import numpy as np\n",
    "\n",
    "# TODO: Number of training examples\n",
    "n_train = len(X_train)\n",
    "\n",
    "# TODO: Number of validation examples\n",
    "n_validation = len(X_validation)\n",
    "\n",
    "# TODO: Number of testing examples.\n",
    "n_test = len(X_test)\n",
    "\n",
    "# TODO: What's the shape of an traffic sign image?\n",
    "image_shape =  X_train[0].shape\n",
    "\n",
    "# TODO: How many unique classes/labels there are in the dataset.\n",
    "n_classes = len(np.unique(y_train))\n",
    "\n",
    "print(\"Number of training examples =\", n_train)\n",
    "print(\"Number of testing examples =\", n_test)\n",
    "print(\"Image data shape =\", image_shape)\n",
    "print(\"Number of classes =\", n_classes)"
   ]
  },
  {
   "cell_type": "markdown",
   "metadata": {},
   "source": [
    "### Include an exploratory visualization of the dataset"
   ]
  },
  {
   "cell_type": "markdown",
   "metadata": {},
   "source": [
    "Visualize the German Traffic Signs Dataset using the pickled file(s). This is open ended, suggestions include: plotting traffic sign images, plotting the count of each sign, etc. \n",
    "\n",
    "The [Matplotlib](http://matplotlib.org/) [examples](http://matplotlib.org/examples/index.html) and [gallery](http://matplotlib.org/gallery.html) pages are a great resource for doing visualizations in Python.\n",
    "\n",
    "**NOTE:** It's recommended you start with something simple first. If you wish to do more, come back to it after you've completed the rest of the sections. It can be interesting to look at the distribution of classes in the training, validation and test set. Is the distribution the same? Are there more examples of some classes than others?"
   ]
  },
  {
   "cell_type": "code",
   "execution_count": 3,
   "metadata": {},
   "outputs": [
    {
     "name": "stdout",
     "output_type": "stream",
     "text": [
      "Count of each sign =  [(0, 180), (1, 1980), (2, 2010), (3, 1260), (4, 1770), (5, 1650), (6, 360), (7, 1290), (8, 1260), (9, 1320), (10, 1800), (11, 1170), (12, 1890), (13, 1920), (14, 690), (15, 540), (16, 360), (17, 990), (18, 1080), (19, 180), (20, 300), (21, 270), (22, 330), (23, 450), (24, 240), (25, 1350), (26, 540), (27, 210), (28, 480), (29, 240), (30, 390), (31, 690), (32, 210), (33, 599), (34, 360), (35, 1080), (36, 330), (37, 180), (38, 1860), (39, 270), (40, 300), (41, 210), (42, 210)]\n",
      "\n"
     ]
    }
   ],
   "source": [
    "### Data exploration visualization code goes here.\n",
    "### Feel free to use as many code cells as needed.\n",
    "import matplotlib.pyplot as plt\n",
    "import random\n",
    "import collections\n",
    "import operator\n",
    "# Visualizations will be shown in the notebook.\n",
    "%matplotlib inline\n",
    "\n",
    "count_sign = collections.Counter(y_train)\n",
    "count_sign = sorted(count_sign.items(), key=operator.itemgetter(0))\n",
    "print(\"Count of each sign = \",count_sign)\n",
    "print()"
   ]
  },
  {
   "cell_type": "code",
   "execution_count": 4,
   "metadata": {},
   "outputs": [
    {
     "name": "stdout",
     "output_type": "stream",
     "text": [
      "36\n"
     ]
    },
    {
     "data": {
      "image/png": "[encoded data removed]",
      "text/plain": [
       "<matplotlib.figure.Figure at 0x7f7205e64908>"
      ]
     },
     "metadata": {},
     "output_type": "display_data"
    }
   ],
   "source": [
    "index = random.randint(0, len(X_train))\n",
    "image = X_train[index]\n",
    "\n",
    "plt.figure(figsize=(1,1))\n",
    "plt.imshow(image)\n",
    "print(y_train[index])\n",
    "\n",
    "copy_image = image #copy random sample image for future preprocessing steps"
   ]
  },
  {
   "cell_type": "markdown",
   "metadata": {},
   "source": [
    "----\n",
    "\n",
    "## Step 2: Design and Test a Model Architecture\n",
    "\n",
    "Design and implement a deep learning model that learns to recognize traffic signs. Train and test your model on the [German Traffic Sign Dataset](http://benchmark.ini.rub.de/?section=gtsrb&subsection=dataset).\n",
    "\n",
    "The LeNet-5 implementation shown in the [classroom](https://classroom.udacity.com/nanodegrees/nd013/parts/fbf77062-5703-404e-b60c-95b78b2f3f9e/modules/6df7ae49-c61c-4bb2-a23e-6527e69209ec/lessons/601ae704-1035-4287-8b11-e2c2716217ad/concepts/d4aca031-508f-4e0b-b493-e7b706120f81) at the end of the CNN lesson is a solid starting point. You'll have to change the number of classes and possibly the preprocessing, but aside from that it's plug and play! \n",
    "\n",
    "With the LeNet-5 solution from the lecture, you should expect a validation set accuracy of about 0.89. To meet specifications, the validation set accuracy will need to be at least 0.93. It is possible to get an even higher accuracy, but 0.93 is the minimum for a successful project submission. \n",
    "\n",
    "There are various aspects to consider when thinking about this problem:\n",
    "\n",
    "- Neural network architecture (is the network over or underfitting?)\n",
    "- Play around preprocessing techniques (normalization, rgb to grayscale, etc)\n",
    "- Number of examples per label (some have more than others).\n",
    "- Generate fake data.\n",
    "\n",
    "Here is an example of a [published baseline model on this problem](http://yann.lecun.com/exdb/publis/pdf/sermanet-ijcnn-11.pdf). It's not required to be familiar with the approach used in the paper but, it's good practice to try to read papers like these."
   ]
  },
  {
   "cell_type": "markdown",
   "metadata": {},
   "source": [
    "### Pre-process the Data Set (normalization, grayscale, etc.)"
   ]
  },
  {
   "cell_type": "markdown",
   "metadata": {},
   "source": [
    "Minimally, the image data should be normalized so that the data has mean zero and equal variance. For image data, `(pixel - 128)/ 128` is a quick way to approximately normalize the data and can be used in this project. \n",
    "\n",
    "Other pre-processing steps are optional. You can try different techniques to see if it improves performance. \n",
    "\n",
    "Use the code cell (or multiple code cells, if necessary) to implement the first step of your project."
   ]
  },
  {
   "cell_type": "code",
   "execution_count": 5,
   "metadata": {
    "collapsed": true
   },
   "outputs": [],
   "source": [
    "### Preprocess the data here. It is required to normalize the data. Other preprocessing steps could include \n",
    "### converting to grayscale, etc.\n",
    "### Feel free to use as many code cells as needed.\n",
    "from skimage import exposure\n",
    "import cv2\n",
    "\n",
    "def preprocessing_pipeline(image):#could be parameterize over all the normalizing parameters\n",
    "    \n",
    "    output = []\n",
    "    #-----Converting image to LAB Color model----------------------------------- \n",
    "    lab_image = cv2.cvtColor(image, cv2.COLOR_BGR2LAB)\n",
    "\n",
    "    #-----Splitting the LAB image to different channels-------------------------\n",
    "    l, a, b = cv2.split(lab_image)\n",
    "\n",
    "    # Contrast stretching\n",
    "    p_low, p_high = np.percentile(l, (2, 98)) #high and low saturation\n",
    "    l_rescale = exposure.rescale_intensity(l, in_range=(p_low, p_high))\n",
    "\n",
    "    # Equalization\n",
    "    l_eq = cv2.equalizeHist(l)\n",
    "\n",
    "    # Adaptive Equalization\n",
    "    clahe = cv2.createCLAHE(clipLimit=3.0, tileGridSize=(8,8))\n",
    "    l_clahe = clahe.apply(l)\n",
    "\n",
    "    lab_image_rescale = cv2.merge((l_rescale,a,b))\n",
    "    image_rescale = cv2.cvtColor(lab_image_rescale, cv2.COLOR_LAB2BGR)\n",
    "    output.append(image_rescale)\n",
    "    \n",
    "    lab_image_eq = cv2.merge((l_eq,a,b))\n",
    "    image_eq = cv2.cvtColor(lab_image_eq, cv2.COLOR_LAB2BGR)\n",
    "    output.append(image_eq)\n",
    "    \n",
    "    lab_image_clahe = cv2.merge((l_clahe,a,b))\n",
    "    image_clahe = cv2.cvtColor(lab_image_clahe, cv2.COLOR_LAB2BGR)\n",
    "    output.append(image_clahe)\n",
    "    \n",
    "    #Local Contrast Normaliation (5*5)\n",
    "    kernel_size = 5\n",
    "    alpha = 5.0 # beta = -alpha\n",
    "    gamma = 128 \n",
    "    gb_image = cv2.GaussianBlur(image, (kernel_size, kernel_size), 0)\n",
    "    image_gauss = cv2.addWeighted(image,alpha, gb_image, -alpha,gamma)\n",
    "    output.append(image_gauss)\n",
    "    \n",
    "    \n",
    "    return output"
   ]
  },
  {
   "cell_type": "code",
   "execution_count": 6,
   "metadata": {},
   "outputs": [
    {
     "data": {
      "image/png": "[encoded data removed]",
      "text/plain": [
       "<matplotlib.figure.Figure at 0x7f723da8ae10>"
      ]
     },
     "metadata": {},
     "output_type": "display_data"
    },
    {
     "data": {
      "image/png": "[encoded data removed]",
      "text/plain": [
       "<matplotlib.figure.Figure at 0x7f723da91668>"
      ]
     },
     "metadata": {},
     "output_type": "display_data"
    }
   ],
   "source": [
    "#testing the pipeline on the previous random image\n",
    "img_list = preprocessing_pipeline(copy_image)\n",
    "plt.figure(figsize=(3,3))\n",
    "plt.imshow(copy_image)\n",
    "\n",
    "fig = plt.figure(figsize=(3,3))\n",
    "\n",
    "for index, img in enumerate(img_list):\n",
    "    subplot = fig.add_subplot(221+index)\n",
    "    subplot.imshow(img)"
   ]
  },
  {
   "cell_type": "code",
   "execution_count": 7,
   "metadata": {
    "collapsed": true
   },
   "outputs": [],
   "source": [
    "### Generate data additional data using the following distortion functions \n",
    "### stocahstic +-10% translation, +-5 degree rotation, and 0.9-1.1 scalling will be used\n",
    "def rotate_image(image, angle):\n",
    "    row,col = image.shape[0:2]\n",
    "    center=tuple(np.array([row,col])/2)\n",
    "    rot_mat = cv2.getRotationMatrix2D(center,angle,1.0)\n",
    "    new_image = cv2.warpAffine(image, rot_mat, (col,row))\n",
    "    return new_image\n",
    "\n",
    "def translate_image(image, horizontal, vertical):\n",
    "    rows,cols = image.shape[0:2]\n",
    "    tran_mat = np.float32([[1,0,horizontal],[0,1,vertical]])\n",
    "    new_image = cv2.warpAffine(image,tran_mat,(cols,rows))\n",
    "    return new_image\n",
    "\n",
    "def scale_image(image, scale_factor):\n",
    "    row,col = image.shape[0:2]\n",
    "    center=tuple(np.array([row,col])/2)\n",
    "    rot_mat = cv2.getRotationMatrix2D(center,0.0,scale_factor)\n",
    "    new_image = cv2.warpAffine(image, rot_mat, (col,row))\n",
    "    return new_image"
   ]
  },
  {
   "cell_type": "code",
   "execution_count": 8,
   "metadata": {},
   "outputs": [
    {
     "data": {
      "text/plain": [
       "<matplotlib.image.AxesImage at 0x7f71e5d7a7f0>"
      ]
     },
     "execution_count": 8,
     "metadata": {},
     "output_type": "execute_result"
    },
    {
     "data": {
      "image/png": "[encoded data removed]",
      "text/plain": [
       "<matplotlib.figure.Figure at 0x7f71e5e5d6d8>"
      ]
     },
     "metadata": {},
     "output_type": "display_data"
    },
    {
     "data": {
      "image/png": "[encoded data removed]",
      "text/plain": [
       "<matplotlib.figure.Figure at 0x7f71e5de5358>"
      ]
     },
     "metadata": {},
     "output_type": "display_data"
    },
    {
     "data": {
      "image/png": "[encoded data removed]",
      "text/plain": [
       "<matplotlib.figure.Figure at 0x7f71e5e27b70>"
      ]
     },
     "metadata": {},
     "output_type": "display_data"
    }
   ],
   "source": [
    "#testing the distortion functions on that image\n",
    "plt.figure(figsize=(3,3))\n",
    "plt.imshow(translate_image(copy_image, -5,5))\n",
    "plt.figure(figsize=(3,3))\n",
    "plt.imshow(rotate_image(copy_image, -45))\n",
    "plt.figure(figsize=(3,3))\n",
    "plt.imshow(scale_image(copy_image, 2.))"
   ]
  },
  {
   "cell_type": "markdown",
   "metadata": {},
   "source": [
    "### Generate additional data (OPTIONAL!) \n",
    "### and split the data into training/validation/testing sets here. (old version)"
   ]
  },
  {
   "cell_type": "code",
   "execution_count": 9,
   "metadata": {
    "collapsed": true
   },
   "outputs": [],
   "source": [
    "### Generate data additional data (OPTIONAL!)\n",
    "### and split the data into training/validation/testing sets here.\n",
    "### Feel free to use as many code cells as needed.\n",
    "#from sklearn.model_selection import train_test_split\n",
    "#from sklearn.utils import shuffle\n",
    "#\n",
    "#validation_split_portion = 0.3 #1/2 test, 1/2 validation\n",
    "#\n",
    "##copy the actual train and test\n",
    "#X_train_copy, X_test_copy, y_train_copy, y_test_copy = X_train, X_test, y_train, y_test\n",
    "#\n",
    "##print(X_train.shape)checking the shape\n",
    "#\n",
    "#X_train, y_train = shuffle(X_train, y_train)\n",
    "#\n",
    "#X_train, X_test, y_train, y_test = train_test_split(X_train, y_train, test_size=validation_split_portion)\n",
    "#\n",
    "#X_test, X_validation, y_test, y_validation = train_test_split(X_test, y_test, test_size=0.5)"
   ]
  },
  {
   "cell_type": "code",
   "execution_count": 10,
   "metadata": {
    "collapsed": true
   },
   "outputs": [],
   "source": [
    "### use the pipeline to create additional data\n",
    "### Distort training datase\n",
    "### NOTE: Only undeformed images are used for validation and testing\n",
    "\n",
    "copy_factor = 16 #every image would create 16 different images after preprocessing and distortion\n",
    "\n",
    "tempX_train = np.repeat(np.zeros(X_train.shape),copy_factor,axis=0)\n",
    "tempy_train = np.repeat(np.zeros(y_train.shape),copy_factor,axis=0)\n",
    "\n",
    "for index in range(len(X_train)):\n",
    "    main_image = X_train[index]\n",
    "    label = y_train[index]\n",
    "    \n",
    "    processed_images = preprocessing_pipeline(main_image)\n",
    "    \n",
    "    row,col = main_image.shape[0:2]\n",
    "    \n",
    "    for j,image in enumerate(processed_images):\n",
    "        h_pixels = random.randint(-col//10,col//10)\n",
    "        v_pixels = random.randint(-row//10,row//10) #+-10%\n",
    "        rotate_angle = random.randint(-5,5) #+-5 degree\n",
    "        scale_factor = random.uniform(0.9, 1.1) \n",
    "\n",
    "        tempX_train[index*copy_factor+j*len(processed_images)+0] = image\n",
    "        tempX_train[index*copy_factor+j*len(processed_images)+1] = translate_image(image,h_pixels, v_pixels)\n",
    "        tempX_train[index*copy_factor+j*len(processed_images)+2]  = rotate_image(image,rotate_angle)\n",
    "        tempX_train[index*copy_factor+j*len(processed_images)+3]  = scale_image(image,scale_factor)\n",
    "        tempy_train[index*copy_factor+j*len(processed_images)+0:index*copy_factor+j*len(processed_images)+4]=label\n",
    "\n",
    "X_train, y_train = tempX_train,tempy_train"
   ]
  },
  {
   "cell_type": "code",
   "execution_count": 11,
   "metadata": {},
   "outputs": [
    {
     "name": "stdout",
     "output_type": "stream",
     "text": [
      "(556784, 32, 32, 3)\n"
     ]
    }
   ],
   "source": [
    "print(X_train.shape)"
   ]
  },
  {
   "cell_type": "markdown",
   "metadata": {},
   "source": [
    "### Model Architecture"
   ]
  },
  {
   "cell_type": "code",
   "execution_count": 12,
   "metadata": {
    "collapsed": true
   },
   "outputs": [],
   "source": [
    "### Define your architecture here.\n",
    "### Feel free to use as many code cells as needed.\n",
    "import tensorflow as tf\n",
    "\n",
    "EPOCHS = 5 # use 30 for best results\n",
    "BATCH_SIZE = 128 #"
   ]
  },
  {
   "cell_type": "code",
   "execution_count": 13,
   "metadata": {
    "collapsed": true
   },
   "outputs": [],
   "source": [
    "def conv2d(x, W, b, strides=1):\n",
    "    x = tf.nn.conv2d(x, W, strides=[1, strides, strides, 1], padding='VALID')\n",
    "    x = tf.nn.bias_add(x, b)\n",
    "    return x\n",
    "\n",
    "def maxpool2d(x, k=2):\n",
    "    return tf.nn.max_pool(x, ksize=[1, k, k, 1], strides=[1, k, k, 1], padding='VALID')"
   ]
  },
  {
   "cell_type": "code",
   "execution_count": 14,
   "metadata": {
    "collapsed": true
   },
   "outputs": [],
   "source": [
    "def conv2d(x, W, b, strides=1):\n",
    "    x = tf.nn.conv2d(x, W, strides=[1, strides, strides, 1], padding='VALID')\n",
    "    x = tf.nn.bias_add(x, b)\n",
    "    return x\n",
    "\n",
    "def maxpool2d(x, k=2):\n",
    "    return tf.nn.max_pool(x, ksize=[1, k, k, 1], strides=[1, k, k, 1], padding='VALID')"
   ]
  },
  {
   "cell_type": "code",
   "execution_count": 15,
   "metadata": {
    "collapsed": true
   },
   "outputs": [],
   "source": [
    "from tensorflow.contrib.layers import flatten\n",
    "\n",
    "def GSTRB_network(x):    \n",
    "    # Hyperparameters\n",
    "    mu = 0\n",
    "    sigma = 0.05 #from the paper\n",
    "    # Network Parameters\n",
    "    #n_classes = 43  # 43 types of signs\n",
    "    #dropout = 0.75  # Dropout, probability to keep units\n",
    "    \n",
    "    # Store layers weight & bias\n",
    "    weights = {\n",
    "    'wc1': tf.Variable(tf.truncated_normal(shape=(3, 3, 3, 100), mean = mu, stddev = sigma)),\n",
    "    'wc2': tf.Variable(tf.truncated_normal(shape=(4, 4, 100, 150), mean = mu, stddev = sigma)),\n",
    "    'wc3': tf.Variable(tf.truncated_normal(shape=(3, 3, 150, 250), mean = mu, stddev = sigma)),\n",
    "\n",
    "    'wd1': tf.Variable(tf.truncated_normal(shape=(1000, 300), mean = mu, stddev = sigma)),\n",
    "    'out': tf.Variable(tf.truncated_normal(shape=(300, n_classes), mean = mu, stddev = sigma))}\n",
    "\n",
    "    biases = {\n",
    "    'bc1': tf.Variable(tf.zeros(100)),\n",
    "    'bc2': tf.Variable(tf.zeros(150)),\n",
    "    'bc3': tf.Variable(tf.zeros(250)),\n",
    "\n",
    "    'bd1': tf.Variable(tf.zeros(300)),\n",
    "    'out': tf.Variable(tf.zeros(n_classes))}\n",
    "\n",
    "    #---------------------------------------------------------------------------\n",
    "    # TODO: Layer 1: Convolutional. Input = 32x32x3. Output = 30x30x100.\n",
    "    conv1 = conv2d(x, weights['wc1'], biases['bc1'])\n",
    "    \n",
    "    # TODO: Activation.\n",
    "    conv1 = tf.tanh(conv1) #tf.nn.relu(conv1) \n",
    "    \n",
    "    # TODO: Pooling. Input = 30x30x100. Output = 15x15x100.\n",
    "    conv1 = maxpool2d(conv1, k=2)\n",
    "    \n",
    "    #---------------------------------------------------------------------------\n",
    "    # TODO: Layer 2: Convolutional. Output = 12x12x150.\n",
    "    conv2 = conv2d(conv1, weights['wc2'], biases['bc2'])\n",
    "    \n",
    "    # TODO: Activation.\n",
    "    conv2 = tf.tanh(conv2) #tf.nn.relu(conv2) \n",
    "\n",
    "    # TODO: Pooling. Input = 12x12x150. Output = 6x6x150.\n",
    "    conv2 = maxpool2d(conv2, k=2)\n",
    "    \n",
    "    #---------------------------------------------------------------------------\n",
    "    # TODO: Layer 3: Convolutional. Output = 4x4x250.\n",
    "    conv3 = conv2d(conv2, weights['wc3'], biases['bc3'])\n",
    "    \n",
    "    # TODO: Activation.\n",
    "    conv3 = tf.tanh(conv3) #tf.nn.relu(conv3) \n",
    "\n",
    "    # TODO: Pooling. Input = 10x10x150. Output = 2x2x250.\n",
    "    conv3 = maxpool2d(conv3, k=2)\n",
    "    \n",
    "    #---------------------------------------------------------------------------\n",
    "    # TODO: Flatten. Input = 2x2x250. Output = 1000.\n",
    "    fc1 = flatten(conv3) # fc1 = tf.reshape(conv2, [-1, weights['wd1'].get_shape().as_list()[0]])\n",
    "    \n",
    "    # TODO: Layer 4: Fully Connected. Input = 1000. Output = 300.\n",
    "    fc1 = tf.add(tf.matmul(fc1, weights['wd1']), biases['bd1'])\n",
    "    \n",
    "    # TODO: Activation.\n",
    "    fc1 = tf.tanh(fc1) #fc1 = tf.nn.relu(fc1)\n",
    "    #fc1 = tf.nn.dropout(fc1, dropout)\n",
    "\n",
    "    #---------------------------------------------------------------------------\n",
    "    # TODO: Layer 5: Fully Connected. Input = 300. Output = 43.\n",
    "    logits = tf.add(tf.matmul(fc1, weights['out']), biases['out'])\n",
    "\n",
    "    print(\"GSTRB_network is created.\")\n",
    "    return logits"
   ]
  },
  {
   "cell_type": "code",
   "execution_count": 16,
   "metadata": {
    "collapsed": true
   },
   "outputs": [],
   "source": [
    "x = tf.placeholder(tf.float32, (None, 32, 32, 3))\n",
    "y = tf.placeholder(tf.int32, (None))\n",
    "one_hot_y = tf.one_hot(y, n_classes)"
   ]
  },
  {
   "cell_type": "markdown",
   "metadata": {},
   "source": [
    "### Train, Validate and Test the Model"
   ]
  },
  {
   "cell_type": "markdown",
   "metadata": {},
   "source": [
    "A validation set can be used to assess how well the model is performing. A low accuracy on the training and validation\n",
    "sets imply underfitting. A high accuracy on the training set but low accuracy on the validation set implies overfitting."
   ]
  },
  {
   "cell_type": "code",
   "execution_count": 17,
   "metadata": {},
   "outputs": [
    {
     "name": "stdout",
     "output_type": "stream",
     "text": [
      "GSTRB_network is created.\n"
     ]
    }
   ],
   "source": [
    "### Train your model here.\n",
    "### Calculate and report the accuracy on the training and validation set.\n",
    "### Once a final model architecture is selected, \n",
    "### the accuracy on the test set should be calculated and reported as well.\n",
    "### Feel free to use as many code cells as needed.\n",
    "\n",
    "#train pipeline\n",
    "\n",
    "rate = 0.0001\n",
    "\n",
    "logits = GSTRB_network(x)\n",
    "cross_entropy = tf.nn.softmax_cross_entropy_with_logits(logits, one_hot_y)\n",
    "loss_operation = tf.reduce_mean(cross_entropy)\n",
    "optimizer = tf.train.AdamOptimizer(learning_rate = rate)\n",
    "training_operation = optimizer.minimize(loss_operation)"
   ]
  },
  {
   "cell_type": "code",
   "execution_count": 18,
   "metadata": {
    "collapsed": true
   },
   "outputs": [],
   "source": [
    "#model evaluation\n",
    "from sklearn.utils import shuffle\n",
    "\n",
    "correct_prediction = tf.equal(tf.argmax(logits, 1), tf.argmax(one_hot_y, 1))\n",
    "accuracy_operation = tf.reduce_mean(tf.cast(correct_prediction, tf.float32))\n",
    "saver = tf.train.Saver()\n",
    "\n",
    "def evaluate(X_data, y_data):\n",
    "    num_examples = len(X_data)\n",
    "    total_accuracy = 0\n",
    "    sess = tf.get_default_session()\n",
    "    for offset in range(0, num_examples, BATCH_SIZE):\n",
    "        batch_x, batch_y = X_data[offset:offset+BATCH_SIZE], y_data[offset:offset+BATCH_SIZE]\n",
    "        \n",
    "        accuracy = sess.run(accuracy_operation, feed_dict={x: batch_x, y: batch_y})\n",
    "        total_accuracy += (accuracy * len(batch_x))\n",
    "    return total_accuracy / num_examples"
   ]
  },
  {
   "cell_type": "code",
   "execution_count": 19,
   "metadata": {},
   "outputs": [
    {
     "name": "stdout",
     "output_type": "stream",
     "text": [
      "Training...\n",
      "\n",
      "EPOCH 1 ...\n",
      "Validation Accuracy = 0.966\n",
      "\n",
      "EPOCH 2 ...\n",
      "Validation Accuracy = 0.963\n",
      "\n",
      "EPOCH 3 ...\n",
      "Validation Accuracy = 0.974\n",
      "\n",
      "EPOCH 4 ...\n",
      "Validation Accuracy = 0.973\n",
      "\n",
      "EPOCH 5 ...\n",
      "Validation Accuracy = 0.973\n",
      "\n",
      "Model saved\n"
     ]
    }
   ],
   "source": [
    "with tf.Session() as sess:\n",
    "    sess.run(tf.global_variables_initializer())\n",
    "    num_examples = len(X_train)\n",
    "    \n",
    "    print(\"Training...\")\n",
    "    print()\n",
    "    for i in range(EPOCHS):\n",
    "        X_train, y_train = shuffle(X_train, y_train)\n",
    "        for offset in range(0, num_examples, BATCH_SIZE):\n",
    "            end = offset + BATCH_SIZE\n",
    "            batch_x, batch_y = X_train[offset:end], y_train[offset:end]\n",
    "            sess.run(training_operation, feed_dict={x: batch_x, y: batch_y})\n",
    "            \n",
    "        validation_accuracy = evaluate(X_validation, y_validation)\n",
    "        print(\"EPOCH {} ...\".format(i+1))\n",
    "        print(\"Validation Accuracy = {:.3f}\".format(validation_accuracy))\n",
    "        print()\n",
    "        \n",
    "    saver.save(sess, 'GSTRB_network')\n",
    "    print(\"Model saved\")"
   ]
  },
  {
   "cell_type": "code",
   "execution_count": 20,
   "metadata": {},
   "outputs": [
    {
     "name": "stdout",
     "output_type": "stream",
     "text": [
      "Actual Test Accuracy = 0.972\n"
     ]
    }
   ],
   "source": [
    "with tf.Session() as sess: #actual test in the pickle file\n",
    "    saver.restore(sess, tf.train.latest_checkpoint('.'))\n",
    "\n",
    "    test_accuracy = evaluate(X_test, y_test)\n",
    "    print(\"Actual Test Accuracy = {:.3f}\".format(test_accuracy))"
   ]
  },
  {
   "cell_type": "markdown",
   "metadata": {},
   "source": [
    "---\n",
    "\n",
    "## Step 3: Test a Model on New Images\n",
    "\n",
    "To give yourself more insight into how your model is working, download at least five pictures of German traffic signs from the web and use your model to predict the traffic sign type.\n",
    "\n",
    "You may find `signnames.csv` useful as it contains mappings from the class id (integer) to the actual sign name."
   ]
  },
  {
   "cell_type": "markdown",
   "metadata": {},
   "source": [
    "### Load and Output the Images"
   ]
  },
  {
   "cell_type": "code",
   "execution_count": 21,
   "metadata": {},
   "outputs": [
    {
     "name": "stdout",
     "output_type": "stream",
     "text": [
      "(6,)\n"
     ]
    },
    {
     "data": {
      "image/png": "[encoded data removed]",
      "text/plain": [
       "<matplotlib.figure.Figure at 0x7f71b64f79e8>"
      ]
     },
     "metadata": {},
     "output_type": "display_data"
    },
    {
     "data": {
      "image/png": "[encoded data removed]",
      "text/plain": [
       "<matplotlib.figure.Figure at 0x7f71b33785f8>"
      ]
     },
     "metadata": {},
     "output_type": "display_data"
    },
    {
     "data": {
      "image/png": "[encoded data removed]",
      "text/plain": [
       "<matplotlib.figure.Figure at 0x7f71b3349cc0>"
      ]
     },
     "metadata": {},
     "output_type": "display_data"
    },
    {
     "data": {
      "image/png": "[encoded data removed]",
      "text/plain": [
       "<matplotlib.figure.Figure at 0x7f71b3315390>"
      ]
     },
     "metadata": {},
     "output_type": "display_data"
    },
    {
     "data": {
      "image/png": "[encoded data removed]",
      "text/plain": [
       "<matplotlib.figure.Figure at 0x7f71b3269860>"
      ]
     },
     "metadata": {},
     "output_type": "display_data"
    },
    {
     "data": {
      "image/png": "[encoded data removed]",
      "text/plain": [
       "<matplotlib.figure.Figure at 0x7f71b3231160>"
      ]
     },
     "metadata": {},
     "output_type": "display_data"
    }
   ],
   "source": [
    "### Load the images and plot them here.\n",
    "### Feel free to use as many code cells as needed.\n",
    "import os\n",
    "import matplotlib.image as mpimg\n",
    "\n",
    "image_names = os.listdir(\"web_signs/\")\n",
    "# loop over all images in the test directory\n",
    "\n",
    "external_X_test = np.repeat(np.expand_dims(np.zeros(X_train[0].shape),axis=0),len(image_names),axis=0)\n",
    "external_y_test = np.array([-1,1,27,27,9,14])#derived manually\n",
    "\n",
    "for idx,img_name in enumerate(image_names):\n",
    "#     print(img_name)#check for name\n",
    "    raw_image = mpimg.imread('web_signs/'+img_name) # load the image\n",
    "    resized_image = cv2.resize(raw_image, (X_train[0].shape[1], X_train[0].shape[0]))\n",
    "    external_X_test[idx] = resized_image\n",
    "    plt.figure(figsize=(2,2))\n",
    "    plt.imshow(resized_image)\n",
    "    \n",
    "print(external_y_test.shape)"
   ]
  },
  {
   "cell_type": "markdown",
   "metadata": {},
   "source": [
    "### Predict the Sign Type for Each Image"
   ]
  },
  {
   "cell_type": "code",
   "execution_count": 22,
   "metadata": {},
   "outputs": [
    {
     "name": "stdout",
     "output_type": "stream",
     "text": [
      "External Test Accuracy = 0.333\n"
     ]
    }
   ],
   "source": [
    "### Run the predictions here and use the model to output the prediction for each image.\n",
    "### Make sure to pre-process the images with the same pre-processing pipeline used earlier.\n",
    "### Feel free to use as many code cells as needed.\n",
    "with tf.Session() as sess: #actual test in the pickle file\n",
    "    saver.restore(sess, tf.train.latest_checkpoint('.'))\n",
    "    \n",
    "    test_accuracy = evaluate(external_X_test, external_y_test)\n",
    "    print(\"External Test Accuracy = {:.3f}\".format(test_accuracy))"
   ]
  },
  {
   "cell_type": "markdown",
   "metadata": {},
   "source": [
    "### Analyze Performance"
   ]
  },
  {
   "cell_type": "code",
   "execution_count": 23,
   "metadata": {
    "collapsed": true
   },
   "outputs": [],
   "source": [
    "### Calculate the accuracy for these 5 new images. \n",
    "### For example, if the model predicted 1 out of 5 signs correctly, it's 20% accurate on these new images.\n",
    "with tf.Session() as sess: #actual test in the pickle file\n",
    "    saver.restore(sess, tf.train.latest_checkpoint('.'))\n",
    "    \n",
    "    external_test_softmax = sess.run(tf.nn.softmax(logits), feed_dict={x: external_X_test, y: external_y_test})\n",
    "#     print(external_test_softmax)"
   ]
  },
  {
   "cell_type": "markdown",
   "metadata": {},
   "source": [
    "### Output Top 5 Softmax Probabilities For Each Image Found on the Web"
   ]
  },
  {
   "cell_type": "markdown",
   "metadata": {},
   "source": [
    "For each of the new images, print out the model's softmax probabilities to show the **certainty** of the model's predictions (limit the output to the top 5 probabilities for each image). [`tf.nn.top_k`](https://www.tensorflow.org/versions/r0.12/api_docs/python/nn.html#top_k) could prove helpful here. \n",
    "\n",
    "The example below demonstrates how tf.nn.top_k can be used to find the top k predictions for each image.\n",
    "\n",
    "`tf.nn.top_k` will return the values and indices (class ids) of the top k predictions. So if k=3, for each sign, it'll return the 3 largest probabilities (out of a possible 43) and the correspoding class ids.\n",
    "\n",
    "Take this numpy array as an example. The values in the array represent predictions. The array contains softmax probabilities for five candidate images with six possible classes. `tk.nn.top_k` is used to choose the three classes with the highest probability:\n",
    "\n",
    "```\n",
    "# (5, 6) array\n",
    "a = np.array([[ 0.24879643,  0.07032244,  0.12641572,  0.34763842,  0.07893497,\n",
    "         0.12789202],\n",
    "       [ 0.28086119,  0.27569815,  0.08594638,  0.0178669 ,  0.18063401,\n",
    "         0.15899337],\n",
    "       [ 0.26076848,  0.23664738,  0.08020603,  0.07001922,  0.1134371 ,\n",
    "         0.23892179],\n",
    "       [ 0.11943333,  0.29198961,  0.02605103,  0.26234032,  0.1351348 ,\n",
    "         0.16505091],\n",
    "       [ 0.09561176,  0.34396535,  0.0643941 ,  0.16240774,  0.24206137,\n",
    "         0.09155967]])\n",
    "```\n",
    "\n",
    "Running it through `sess.run(tf.nn.top_k(tf.constant(a), k=3))` produces:\n",
    "\n",
    "```\n",
    "TopKV2(values=array([[ 0.34763842,  0.24879643,  0.12789202],\n",
    "       [ 0.28086119,  0.27569815,  0.18063401],\n",
    "       [ 0.26076848,  0.23892179,  0.23664738],\n",
    "       [ 0.29198961,  0.26234032,  0.16505091],\n",
    "       [ 0.34396535,  0.24206137,  0.16240774]]), indices=array([[3, 0, 5],\n",
    "       [0, 1, 4],\n",
    "       [0, 5, 1],\n",
    "       [1, 3, 5],\n",
    "       [1, 4, 3]], dtype=int32))\n",
    "```\n",
    "\n",
    "Looking just at the first row we get `[ 0.34763842,  0.24879643,  0.12789202]`, you can confirm these are the 3 largest probabilities in `a`. You'll also notice `[3, 0, 5]` are the corresponding indices."
   ]
  },
  {
   "cell_type": "code",
   "execution_count": 25,
   "metadata": {},
   "outputs": [
    {
     "name": "stdout",
     "output_type": "stream",
     "text": [
      "(6, 43)\n",
      "[[  9.67968017e-09   2.71214994e-05   1.13812654e-04   5.58091688e-06\n",
      "    3.70511669e-04   2.84599635e-04   1.03812026e-05   4.33178184e-06\n",
      "    5.63161257e-06   2.53514572e-05   6.71587646e-01   6.57952082e-10\n",
      "    2.32859129e-05   1.63994427e-03   4.59780665e-07   2.73308307e-01\n",
      "    1.17379110e-04   2.16812191e-06   1.45951644e-05   5.64421589e-06\n",
      "    7.07197216e-07   1.81917551e-06   1.00810976e-04   2.00136014e-06\n",
      "    1.35394134e-06   1.28689828e-06   4.80540875e-05   5.83058693e-07\n",
      "    2.47049092e-09   6.64514772e-08   4.68628627e-07   2.81728542e-04\n",
      "    4.11399782e-07   5.73433168e-09   4.53946134e-03   9.00586372e-07\n",
      "    4.16040100e-04   4.61735169e-07   4.70484197e-02   8.82806148e-07\n",
      "    1.10995768e-06   3.71423357e-06   3.01914361e-06]\n",
      " [  1.46137118e-05   9.99262512e-01   1.75947844e-05   2.07547970e-08\n",
      "    8.53642348e-07   7.12903443e-07   1.16195712e-04   2.25060965e-08\n",
      "    2.67785456e-08   1.34915270e-08   9.53508206e-09   8.65465921e-09\n",
      "    1.63257823e-07   1.01415517e-05   7.60750554e-05   7.90410752e-07\n",
      "    1.28421121e-07   2.99445779e-09   1.93016385e-05   4.46323600e-09\n",
      "    1.37741829e-09   1.32420965e-07   2.05580690e-07   1.06103286e-07\n",
      "    1.72065370e-07   1.23314781e-08   1.00764135e-08   1.23588615e-08\n",
      "    1.02716172e-06   1.58000812e-08   3.23556493e-09   1.73424404e-08\n",
      "    2.29805764e-07   2.17568572e-06   7.86282089e-06   3.68345195e-06\n",
      "    1.14080161e-04   7.24902638e-05   1.54647962e-04   2.14840725e-06\n",
      "    1.17765696e-04   3.39709163e-06   7.45000364e-07]\n",
      " [  1.61838689e-04   6.08989558e-06   9.83533344e-09   3.52825850e-07\n",
      "    4.27246150e-08   1.15692774e-06   7.39876441e-06   8.21790991e-07\n",
      "    2.27419787e-06   1.14511395e-05   5.40601697e-09   1.04996259e-03\n",
      "    1.15797029e-05   8.30483430e-07   4.35944649e-08   4.98941983e-04\n",
      "    2.32733553e-03   1.04411209e-08   3.53865966e-04   2.34532505e-02\n",
      "    2.40292884e-05   4.08106171e-05   2.34958297e-05   5.64015005e-04\n",
      "    1.22619867e-02   2.26073053e-06   6.53798270e-05   5.23693999e-03\n",
      "    9.38530147e-01   5.47009149e-05   1.11583686e-04   7.49652285e-10\n",
      "    1.33003443e-04   1.16431981e-03   2.67763680e-04   8.77485052e-03\n",
      "    5.40487854e-05   4.75202268e-03   1.30226317e-06   9.86241389e-07\n",
      "    2.65403014e-05   1.50913202e-05   7.45265561e-06]\n",
      " [  9.25005646e-04   2.89141059e-01   5.89273125e-03   8.05685431e-06\n",
      "    5.73753132e-05   3.50776754e-05   3.61154642e-04   5.45069815e-06\n",
      "    2.02703018e-06   1.97596364e-06   4.29661753e-07   1.68298502e-04\n",
      "    6.45807028e-01   5.26872696e-04   3.31042334e-04   2.15387874e-04\n",
      "    6.16922932e-07   3.90150205e-08   6.84648476e-05   1.19488534e-04\n",
      "    3.70180624e-06   2.51586258e-04   2.10009818e-03   1.74064735e-05\n",
      "    1.73003005e-04   3.29996971e-03   1.50394299e-05   1.12126577e-06\n",
      "    8.62768386e-04   1.77423228e-02   5.70844850e-06   9.56145377e-05\n",
      "    3.27997375e-03   6.68280745e-06   8.31598081e-05   8.46696086e-04\n",
      "    6.99794444e-04   2.48815562e-03   4.64684190e-03   4.24180944e-05\n",
      "    1.95292272e-02   1.31301582e-04   9.72548696e-06]\n",
      " [  2.21399389e-07   2.50514034e-07   2.58088551e-09   2.17832752e-10\n",
      "    5.53608537e-09   2.47548892e-09   3.94092231e-10   8.07022715e-09\n",
      "    1.27451331e-05   9.88811953e-04   1.51121583e-07   2.84939780e-11\n",
      "    8.18278750e-07   9.88824104e-06   1.13281703e-05   4.35473839e-06\n",
      "    5.57165151e-07   9.98926699e-01   2.01114916e-10   1.01706728e-05\n",
      "    9.51481297e-07   3.19128901e-08   7.38576034e-07   6.72833676e-06\n",
      "    1.51441206e-08   7.92412251e-08   1.13262900e-07   9.00353347e-10\n",
      "    5.45138192e-08   1.64657376e-05   1.56656981e-08   6.12056752e-08\n",
      "    1.32415849e-07   5.60162050e-09   1.01540302e-07   1.84331014e-07\n",
      "    1.84131679e-08   9.80873622e-08   7.29085237e-10   1.44063894e-09\n",
      "    2.45976906e-09   8.11582231e-06   2.55050256e-08]\n",
      " [  2.24163276e-04   2.55087234e-05   4.16346984e-06   2.96039872e-07\n",
      "    1.23636198e-07   2.96839251e-04   1.42389570e-06   7.85923717e-08\n",
      "    8.60701912e-05   6.34472599e-08   1.26318540e-07   1.60566671e-07\n",
      "    9.01997907e-08   3.37025511e-07   9.97396469e-01   1.30882099e-05\n",
      "    2.66932102e-06   1.26423259e-07   2.53985809e-06   1.09664207e-08\n",
      "    1.16793064e-08   3.26538134e-06   8.46484909e-07   1.53486113e-07\n",
      "    1.63908942e-06   1.61178434e-06   3.44927031e-07   1.54865495e-06\n",
      "    1.07694916e-06   1.93302019e-03   5.81296877e-09   8.33056220e-07\n",
      "    6.60669230e-07   1.68760167e-07   6.75552014e-09   2.05944506e-09\n",
      "    4.29516778e-09   5.93292739e-08   1.11819958e-07   2.69135882e-07\n",
      "    1.11695400e-08   3.70336011e-08   1.16603882e-08]]\n"
     ]
    },
    {
     "data": {
      "image/png": "[encoded data removed]",
      "text/plain": [
       "<matplotlib.figure.Figure at 0x7f71b64f7710>"
      ]
     },
     "metadata": {},
     "output_type": "display_data"
    }
   ],
   "source": [
    "### Print out the top five softmax probabilities for the predictions on the German traffic sign images found on the web. \n",
    "### Feel free to use as many code cells as needed.\n",
    "import itertools\n",
    "\n",
    "print(external_test_softmax.shape)\n",
    "print(external_test_softmax)\n",
    "\n",
    "x = np.arange(external_test_softmax.shape[1])\n",
    "\n",
    "colors = itertools.cycle(['b', 'g', 'r', 'c', 'm', 'y', 'k'])\n",
    "\n",
    "for indx,prob in enumerate(external_test_softmax):\n",
    "     color = next(colors)\n",
    "     plt.plot(prob, '*',c = color, markersize=10, markeredgewidth = 0)\n",
    "     plt.plot(external_y_test[indx], 1.0, 'o',\\\n",
    "              c = color, markersize=10, markerfacecolor='none', markeredgecolor = color,markeredgewidth = 2)\n",
    "\n",
    "axes = plt.gca()\n",
    "axes.set_xlim([-2,42]) #blue sign is not in the list of signs (its label is -1)\n",
    "axes.set_ylim([-0.1,1.1])\n",
    "plt.show()"
   ]
  },
  {
   "cell_type": "code",
   "execution_count": 26,
   "metadata": {},
   "outputs": [
    {
     "name": "stdout",
     "output_type": "stream",
     "text": [
      "TopKV2(values=array([[  6.71587646e-01,   2.73308307e-01,   4.70484197e-02],\n",
      "       [  9.99262512e-01,   1.54647962e-04,   1.17765696e-04],\n",
      "       [  9.38530147e-01,   2.34532505e-02,   1.22619867e-02],\n",
      "       [  6.45807028e-01,   2.89141059e-01,   1.95292272e-02],\n",
      "       [  9.98926699e-01,   9.88811953e-04,   1.64657376e-05],\n",
      "       [  9.97396469e-01,   1.93302019e-03,   2.96839251e-04]], dtype=float32), indices=array([[10, 15, 38],\n",
      "       [ 1, 38, 40],\n",
      "       [28, 19, 24],\n",
      "       [12,  1, 40],\n",
      "       [17,  9, 29],\n",
      "       [14, 29,  5]], dtype=int32))\n"
     ]
    }
   ],
   "source": [
    "### Visualize the softmax probabilities here.\n",
    "### Feel free to use as many code cells as needed.\n",
    "with tf.Session() as sess: #actual test in the pickle file\n",
    "    saver.restore(sess, tf.train.latest_checkpoint('.'))\n",
    "    \n",
    "    TopKV2 = sess.run(tf.nn.top_k(tf.constant(external_test_softmax), k=3))\n",
    "    print(TopKV2)"
   ]
  },
  {
   "cell_type": "code",
   "execution_count": 27,
   "metadata": {},
   "outputs": [
    {
     "data": {
      "image/png": "[encoded data removed]",
      "text/plain": [
       "<matplotlib.figure.Figure at 0x7f71b315dbe0>"
      ]
     },
     "metadata": {},
     "output_type": "display_data"
    }
   ],
   "source": [
    "x = np.arange(TopKV2.values.shape[1])\n",
    "\n",
    "colors = itertools.cycle(['b', 'g', 'r', 'c', 'm', 'y', 'k'])\n",
    "\n",
    "for indx,prob in enumerate(TopKV2.values):\n",
    "     color = next(colors)\n",
    "     plt.plot(TopKV2.indices[indx],prob, '*',c = color, markersize=10, markeredgewidth = 0)\n",
    "     plt.plot(external_y_test[indx], 1.0, 'o',\\\n",
    "              c = color, markersize=10, markerfacecolor='none', markeredgecolor = color,markeredgewidth = 1)\n",
    "\n",
    "axes = plt.gca()\n",
    "axes.set_xlim([-2,42]) #blue sign is not in the list of signs (its label is -1)\n",
    "axes.set_ylim([-0.1,1.1])\n",
    "plt.show()"
   ]
  },
  {
   "cell_type": "markdown",
   "metadata": {},
   "source": [
    "### Project Writeup\n",
    "\n",
    "Once you have completed the code implementation, document your results in a project writeup using this [template](https://github.com/udacity/CarND-Traffic-Sign-Classifier-Project/blob/master/writeup_template.md) as a guide. The writeup can be in a markdown or pdf file. "
   ]
  },
  {
   "cell_type": "markdown",
   "metadata": {},
   "source": [
    "> **Note**: Once you have completed all of the code implementations and successfully answered each question above, you may finalize your work by exporting the iPython Notebook as an HTML document. You can do this by using the menu above and navigating to  \\n\",\n",
    "    \"**File -> Download as -> HTML (.html)**. Include the finished document along with this notebook as your submission."
   ]
  },
  {
   "cell_type": "markdown",
   "metadata": {},
   "source": [
    "---\n",
    "\n",
    "## Step 4 (Optional): Visualize the Neural Network's State with Test Images\n",
    "\n",
    " This Section is not required to complete but acts as an additional excersise for understaning the output of a neural network's weights. While neural networks can be a great learning device they are often referred to as a black box. We can understand what the weights of a neural network look like better by plotting their feature maps. After successfully training your neural network you can see what it's feature maps look like by plotting the output of the network's weight layers in response to a test stimuli image. From these plotted feature maps, it's possible to see what characteristics of an image the network finds interesting. For a sign, maybe the inner network feature maps react with high activation to the sign's boundary outline or to the contrast in the sign's painted symbol.\n",
    "\n",
    " Provided for you below is the function code that allows you to get the visualization output of any tensorflow weight layer you want. The inputs to the function should be a stimuli image, one used during training or a new one you provided, and then the tensorflow variable name that represents the layer's state during the training process, for instance if you wanted to see what the [LeNet lab's](https://classroom.udacity.com/nanodegrees/nd013/parts/fbf77062-5703-404e-b60c-95b78b2f3f9e/modules/6df7ae49-c61c-4bb2-a23e-6527e69209ec/lessons/601ae704-1035-4287-8b11-e2c2716217ad/concepts/d4aca031-508f-4e0b-b493-e7b706120f81) feature maps looked like for it's second convolutional layer you could enter conv2 as the tf_activation variable.\n",
    "\n",
    "For an example of what feature map outputs look like, check out NVIDIA's results in their paper [End-to-End Deep Learning for Self-Driving Cars](https://devblogs.nvidia.com/parallelforall/deep-learning-self-driving-cars/) in the section Visualization of internal CNN State. NVIDIA was able to show that their network's inner weights had high activations to road boundary lines by comparing feature maps from an image with a clear path to one without. Try experimenting with a similar test to show that your trained network's weights are looking for interesting features, whether it's looking at differences in feature maps from images with or without a sign, or even what feature maps look like in a trained network vs a completely untrained one on the same sign image.\n",
    "\n",
    "<figure>\n",
    " <img src=\"visualize_cnn.png\" width=\"380\" alt=\"Combined Image\" />\n",
    " <figcaption>\n",
    " <p></p> \n",
    " <p style=\"text-align: center;\"> Your output should look something like this (above)</p> \n",
    " </figcaption>\n",
    "</figure>\n",
    " <p></p> \n"
   ]
  },
  {
   "cell_type": "code",
   "execution_count": 28,
   "metadata": {
    "collapsed": true
   },
   "outputs": [],
   "source": [
    "### Visualize your network's feature maps here.\n",
    "### Feel free to use as many code cells as needed.\n",
    "\n",
    "# image_input: the test image being fed into the network to produce the feature maps\n",
    "# tf_activation: should be a tf variable name used during your training procedure that represents the calculated state of a specific weight layer\n",
    "# activation_min/max: can be used to view the activation contrast in more detail, by default matplot sets min and max to the actual min and max values of the output\n",
    "# plt_num: used to plot out multiple different weight feature map sets on the same block, just extend the plt number for each new feature map entry\n",
    "\n",
    "def outputFeatureMap(image_input, tf_activation, activation_min=-1, activation_max=-1 ,plt_num=1):\n",
    "    # Here make sure to preprocess your image_input in a way your network expects\n",
    "    # with size, normalization, ect if needed\n",
    "    # image_input =\n",
    "    # Note: x should be the same name as your network's tensorflow data placeholder variable\n",
    "    # If you get an error tf_activation is not defined it may be having trouble accessing the variable from inside a function\n",
    "    activation = tf_activation.eval(session=sess,feed_dict={x : image_input})\n",
    "    featuremaps = activation.shape[3]\n",
    "    plt.figure(plt_num, figsize=(15,15))\n",
    "    for featuremap in range(featuremaps):\n",
    "        plt.subplot(6,8, featuremap+1) # sets the number of feature maps to show on each row and column\n",
    "        plt.title('FeatureMap ' + str(featuremap)) # displays the feature map number\n",
    "        if activation_min != -1 & activation_max != -1:\n",
    "            plt.imshow(activation[0,:,:, featuremap], interpolation=\"nearest\", vmin =activation_min, vmax=activation_max, cmap=\"gray\")\n",
    "        elif activation_max != -1:\n",
    "            plt.imshow(activation[0,:,:, featuremap], interpolation=\"nearest\", vmax=activation_max, cmap=\"gray\")\n",
    "        elif activation_min !=-1:\n",
    "            plt.imshow(activation[0,:,:, featuremap], interpolation=\"nearest\", vmin=activation_min, cmap=\"gray\")\n",
    "        else:\n",
    "            plt.imshow(activation[0,:,:, featuremap], interpolation=\"nearest\", cmap=\"gray\")"
   ]
  }
 ],
 "metadata": {
  "anaconda-cloud": {},
  "kernelspec": {
   "display_name": "Python 3",
   "language": "python",
   "name": "python3"
  },
  "language_info": {
   "codemirror_mode": {
    "name": "ipython",
    "version": 3
   },
   "file_extension": ".py",
   "mimetype": "text/x-python",
   "name": "python",
   "nbconvert_exporter": "python",
   "pygments_lexer": "ipython3",
   "version": "3.5.2"
  },
  "widgets": {
   "state": {},
   "version": "1.1.2"
  }
 },
 "nbformat": 4,
 "nbformat_minor": 1
}
